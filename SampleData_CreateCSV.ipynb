{
    "cells": [
        {
            "cell_type": "markdown",
            "metadata": {},
            "source": [
                "# Setup in VS Code\n",
                "- First set your Python interpreter in (Ctl/Cmd Shift P): \"Python: Select Interpreter\" and select a matching \"python3\" for the next line\n",
                "- Install Jupyter if not already installed: \"pip3 install Jupyter\"\n",
                "- Install needed library: \"pip3 install pandas\"\n",
                "- Next start a new Jupyter notebook (Ctl/Cmd Shift P): \"Jupyter: Create New Blank Notebook\""
            ]
        },
        {
            "cell_type": "code",
            "execution_count": 1,
            "metadata": {},
            "outputs": [],
            "source": [
                "# Pandas for CSV manipulation\n",
                "import pandas as pd\n",
                "# Used to get the current date/time\n",
                "from datetime import datetime, timedelta\n",
                "# Used to generate a random number\n",
                "import random"
            ]
        },
        {
            "cell_type": "markdown",
            "metadata": {},
            "source": [
                "# Sample Data build in DataFrame"
            ]
        },
        {
            "cell_type": "code",
            "execution_count": null,
            "metadata": {},
            "outputs": [],
            "source": [
                "# Create DataFrame from scatch and populate it with test data\n",
                "df_sampledata = pd.DataFrame(columns=['test_datetime', 'test_number', 'test_text'])\n",
                "# Get the current date/time and the last 2 days and put them in a list\n",
                "dates_to_add = list([])\n",
                "two_days_ago = (datetime.now() - timedelta(days=2)).strftime(\"%Y/%m/%d %H:%M:%S\")\n",
                "two_days_ago_text = (datetime.now() - timedelta(days=2)).strftime(\"%B %d of %Y\")\n",
                "dates_to_add.append(dict({\"datetime\": two_days_ago, \"datetext\": two_days_ago_text}))\n",
                "yesterday_was = (datetime.now() - timedelta(days=1)).strftime(\"%Y/%m/%d %H:%M:%S\")\n",
                "yesterday_was_text = (datetime.now() - timedelta(days=1)).strftime(\"%B %d of %Y\")\n",
                "dates_to_add.append(dict({\"datetime\": yesterday_was, \"datetext\": yesterday_was_text}))\n",
                "now_is = datetime.now().strftime(\"%Y/%m/%d %H:%M:%S\")\n",
                "now_is_text = datetime.now().strftime(\"%B %d of %Y\")\n",
                "dates_to_add.append(dict({\"datetime\": now_is, \"datetext\": now_is_text}))\n",
                "# Loop through each day and add some records\n",
                "records_per_date = int(4)\n",
                "for date_to_add in dates_to_add:\n",
                "    # Date and text to use\n",
                "    date_is = date_to_add['datetime']\n",
                "    text_is = \"Record created \" + date_to_add['datetext']\n",
                "    # Add four records for each date\n",
                "    for records_to_add in range(records_per_date):\n",
                "        # Get a random number with 6 digits\n",
                "        number_is = random.randint(100000, 1000000)\n",
                "        # Populate some data\n",
                "        df_sampledata = df_sampledata.append(pd.Series({'test_datetime': date_is, 'test_number': number_is, 'test_text': text_is}), ignore_index=True)\n",
                "# View new DataFrame\n",
                "df_sampledata"
            ]
        },
        {
            "cell_type": "markdown",
            "metadata": {},
            "source": [
                "# Format Fields (optional, not maintained once written to CSV)"
            ]
        },
        {
            "cell_type": "code",
            "execution_count": 12,
            "metadata": {},
            "outputs": [],
            "source": [
                "# String to Date/Time\n",
                "df_sampledata['test_datetime'] = pd.to_datetime(df_sampledata['test_datetime'])\n",
                "# String to Int\n",
                "df_sampledata['test_number'] = df_sampledata['test_number'].astype(int)"
            ]
        },
        {
            "cell_type": "markdown",
            "metadata": {},
            "source": [
                "# Sample Data Columns"
            ]
        },
        {
            "cell_type": "code",
            "execution_count": 13,
            "metadata": {},
            "outputs": [
                {
                    "data": {
                        "text/plain": [
                            "test_datetime    datetime64[ns]\n",
                            "test_number               Int64\n",
                            "test_text                string\n",
                            "dtype: object"
                        ]
                    },
                    "execution_count": 13,
                    "metadata": {},
                    "output_type": "execute_result"
                }
            ],
            "source": [
                "# List DataFrame columns\n",
                "df_sampledata.columns\n",
                "# List field types\n",
                "df_sampledata.convert_dtypes().dtypes"
            ]
        },
        {
            "cell_type": "markdown",
            "metadata": {},
            "source": [
                "# Sample Data export to CSV file"
            ]
        },
        {
            "cell_type": "code",
            "execution_count": 14,
            "metadata": {},
            "outputs": [],
            "source": [
                "# Send DataFrame to CSV file\n",
                "df_sampledata.to_csv('testtable_source.csv', index=False)"
            ]
        }
    ],
    "metadata": {
        "interpreter": {
            "hash": "082e9a3bcad0a290d0001e938aa60b99250c6c2ef33a923c00b70f9826caf4b7"
        },
        "kernelspec": {
            "display_name": "Python 3.8.0 64-bit",
            "name": "python3"
        },
        "language_info": {
            "codemirror_mode": {
                "name": "ipython",
                "version": 3
            },
            "file_extension": ".py",
            "mimetype": "text/x-python",
            "name": "python",
            "nbconvert_exporter": "python",
            "pygments_lexer": "ipython3",
            "version": "3.8.0"
        },
        "orig_nbformat": 4
    },
    "nbformat": 4,
    "nbformat_minor": 2
}
