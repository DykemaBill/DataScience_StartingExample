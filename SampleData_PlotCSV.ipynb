{
    "cells": [
        {
            "cell_type": "markdown",
            "metadata": {},
            "source": [
                "# Setup in VS Code\n",
                "- First set your Python interpreter in (Ctl/Cmd Shift P): \"Python: Select Interpreter\" and select a matching \"python3\" for the next line\n",
                "- Install Jupyter if not already installed: \"pip3 install Jupyter\"\n",
                "- Install needed libraries: \"pip3 install pandas\" and \"pip3 install matplotlib\"\n",
                "- Next start a new Jupyter notebook (Ctl/Cmd Shift P): \"Jupyter: Create New Blank Notebook\"\n",
                "- Run SampleData_CreateCSV first to create some data to work with"
            ]
        },
        {
            "cell_type": "code",
            "execution_count": 6,
            "metadata": {},
            "outputs": [],
            "source": [
                "# Pandas for CSV manipulation\n",
                "import pandas as pd\n",
                "# MatPlotLib to visualize data\n",
                "import matplotlib.pyplot as plt"
            ]
        },
        {
            "cell_type": "markdown",
            "metadata": {},
            "source": [
                "# Sample Data read into DataFrame"
            ]
        },
        {
            "cell_type": "code",
            "execution_count": 7,
            "metadata": {},
            "outputs": [
                {
                    "data": {
                        "text/html": [
                            "<div>\n",
                            "<style scoped>\n",
                            "    .dataframe tbody tr th:only-of-type {\n",
                            "        vertical-align: middle;\n",
                            "    }\n",
                            "\n",
                            "    .dataframe tbody tr th {\n",
                            "        vertical-align: top;\n",
                            "    }\n",
                            "\n",
                            "    .dataframe thead th {\n",
                            "        text-align: right;\n",
                            "    }\n",
                            "</style>\n",
                            "<table border=\"1\" class=\"dataframe\">\n",
                            "  <thead>\n",
                            "    <tr style=\"text-align: right;\">\n",
                            "      <th></th>\n",
                            "      <th>test_datetime</th>\n",
                            "      <th>test_number</th>\n",
                            "      <th>test_text</th>\n",
                            "    </tr>\n",
                            "  </thead>\n",
                            "  <tbody>\n",
                            "    <tr>\n",
                            "      <th>0</th>\n",
                            "      <td>2022-04-08 09:18:07</td>\n",
                            "      <td>793228</td>\n",
                            "      <td>Record created April 08 of 2022</td>\n",
                            "    </tr>\n",
                            "    <tr>\n",
                            "      <th>1</th>\n",
                            "      <td>2022-04-08 09:18:07</td>\n",
                            "      <td>800775</td>\n",
                            "      <td>Record created April 08 of 2022</td>\n",
                            "    </tr>\n",
                            "    <tr>\n",
                            "      <th>2</th>\n",
                            "      <td>2022-04-08 09:18:07</td>\n",
                            "      <td>315222</td>\n",
                            "      <td>Record created April 08 of 2022</td>\n",
                            "    </tr>\n",
                            "    <tr>\n",
                            "      <th>3</th>\n",
                            "      <td>2022-04-08 09:18:07</td>\n",
                            "      <td>379288</td>\n",
                            "      <td>Record created April 08 of 2022</td>\n",
                            "    </tr>\n",
                            "    <tr>\n",
                            "      <th>4</th>\n",
                            "      <td>2022-04-09 09:18:07</td>\n",
                            "      <td>192138</td>\n",
                            "      <td>Record created April 09 of 2022</td>\n",
                            "    </tr>\n",
                            "    <tr>\n",
                            "      <th>5</th>\n",
                            "      <td>2022-04-09 09:18:07</td>\n",
                            "      <td>336221</td>\n",
                            "      <td>Record created April 09 of 2022</td>\n",
                            "    </tr>\n",
                            "    <tr>\n",
                            "      <th>6</th>\n",
                            "      <td>2022-04-09 09:18:07</td>\n",
                            "      <td>699566</td>\n",
                            "      <td>Record created April 09 of 2022</td>\n",
                            "    </tr>\n",
                            "    <tr>\n",
                            "      <th>7</th>\n",
                            "      <td>2022-04-09 09:18:07</td>\n",
                            "      <td>610561</td>\n",
                            "      <td>Record created April 09 of 2022</td>\n",
                            "    </tr>\n",
                            "    <tr>\n",
                            "      <th>8</th>\n",
                            "      <td>2022-04-10 09:18:07</td>\n",
                            "      <td>710955</td>\n",
                            "      <td>Record created April 10 of 2022</td>\n",
                            "    </tr>\n",
                            "    <tr>\n",
                            "      <th>9</th>\n",
                            "      <td>2022-04-10 09:18:07</td>\n",
                            "      <td>904556</td>\n",
                            "      <td>Record created April 10 of 2022</td>\n",
                            "    </tr>\n",
                            "    <tr>\n",
                            "      <th>10</th>\n",
                            "      <td>2022-04-10 09:18:07</td>\n",
                            "      <td>597213</td>\n",
                            "      <td>Record created April 10 of 2022</td>\n",
                            "    </tr>\n",
                            "    <tr>\n",
                            "      <th>11</th>\n",
                            "      <td>2022-04-10 09:18:07</td>\n",
                            "      <td>173828</td>\n",
                            "      <td>Record created April 10 of 2022</td>\n",
                            "    </tr>\n",
                            "  </tbody>\n",
                            "</table>\n",
                            "</div>"
                        ],
                        "text/plain": [
                            "          test_datetime  test_number                        test_text\n",
                            "0   2022-04-08 09:18:07       793228  Record created April 08 of 2022\n",
                            "1   2022-04-08 09:18:07       800775  Record created April 08 of 2022\n",
                            "2   2022-04-08 09:18:07       315222  Record created April 08 of 2022\n",
                            "3   2022-04-08 09:18:07       379288  Record created April 08 of 2022\n",
                            "4   2022-04-09 09:18:07       192138  Record created April 09 of 2022\n",
                            "5   2022-04-09 09:18:07       336221  Record created April 09 of 2022\n",
                            "6   2022-04-09 09:18:07       699566  Record created April 09 of 2022\n",
                            "7   2022-04-09 09:18:07       610561  Record created April 09 of 2022\n",
                            "8   2022-04-10 09:18:07       710955  Record created April 10 of 2022\n",
                            "9   2022-04-10 09:18:07       904556  Record created April 10 of 2022\n",
                            "10  2022-04-10 09:18:07       597213  Record created April 10 of 2022\n",
                            "11  2022-04-10 09:18:07       173828  Record created April 10 of 2022"
                        ]
                    },
                    "execution_count": 7,
                    "metadata": {},
                    "output_type": "execute_result"
                }
            ],
            "source": [
                "# Read CSV file into DataFrame\n",
                "df_csv = pd.read_csv(\"testtable_source.csv\")\n",
                "# View your new DataFrame\n",
                "df_csv"
            ]
        },
        {
            "cell_type": "markdown",
            "metadata": {},
            "source": [
                "# Plot DataFrame"
            ]
        },
        {
            "cell_type": "code",
            "execution_count": 17,
            "metadata": {},
            "outputs": [
                {
                    "data": {
                        "text/plain": [
                            "<AxesSubplot:xlabel='test_datetime', ylabel='test_number'>"
                        ]
                    },
                    "execution_count": 17,
                    "metadata": {},
                    "output_type": "execute_result"
                },
                {
                    "data": {
                        "image/png": "[encoded data removed]",
                        "text/plain": [
                            "<Figure size 432x288 with 1 Axes>"
                        ]
                    },
                    "metadata": {
                        "needs_background": "light"
                    },
                    "output_type": "display_data"
                },
                {
                    "data": {
                        "image/png": "[encoded data removed]",
                        "text/plain": [
                            "<Figure size 432x288 with 1 Axes>"
                        ]
                    },
                    "metadata": {
                        "needs_background": "light"
                    },
                    "output_type": "display_data"
                }
            ],
            "source": [
                "# Bar chart\n",
                "df_csv.plot(x = 'test_datetime', y = 'test_number', kind = 'bar')\n",
                "# Scatter plot\n",
                "df_csv.plot(x = 'test_datetime', y = 'test_number', kind = 'scatter')"
            ]
        }
    ],
    "metadata": {
        "interpreter": {
            "hash": "082e9a3bcad0a290d0001e938aa60b99250c6c2ef33a923c00b70f9826caf4b7"
        },
        "kernelspec": {
            "display_name": "Python 3.8.0 64-bit",
            "name": "python3"
        },
        "language_info": {
            "codemirror_mode": {
                "name": "ipython",
                "version": 3
            },
            "file_extension": ".py",
            "mimetype": "text/x-python",
            "name": "python",
            "nbconvert_exporter": "python",
            "pygments_lexer": "ipython3",
            "version": "3.8.9"
        },
        "orig_nbformat": 4
    },
    "nbformat": 4,
    "nbformat_minor": 2
}
